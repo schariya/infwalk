{
 "cells": [
  {
   "cell_type": "code",
   "execution_count": null,
   "metadata": {},
   "outputs": [],
   "source": [
    "import numpy as np\n",
    "import scipy as sp\n",
    "import scipy.sparse, scipy.io"
   ]
  },
  {
   "cell_type": "markdown",
   "metadata": {},
   "source": [
    "Cells to load the network:"
   ]
  },
  {
   "cell_type": "code",
   "execution_count": null,
   "metadata": {},
   "outputs": [],
   "source": [
    "adj = sp.io.loadmat('blogcatalog.mat')['network']
   ]
  },
  {
   "cell_type": "markdown",
   "metadata": {},
   "source": [
    "The three main components of the algorithm:"
   ]
  },
  {
   "cell_type": "code",
   "execution_count": null,
   "metadata": {},
   "outputs": [],
   "source": [
    "def compute_pmi_inf(adj, rank_approx=None):\n",
    "    lap, deg_sqrt = sp.sparse.csgraph.laplacian(adj, normed=True, return_diag=True)\n",
    "    iden = sp.sparse.identity(adj.shape[0])\n",
    "    vol = adj.sum()\n",
    "    ss_probs_invsqrt = np.sqrt(vol) / deg_sqrt # inverse square root of stationary probabilities\n",
    "    lap_pinv = np.linalg.pinv(lap.todense(), hermitian=True)\n",
    "    return 1. + ss_probs_invsqrt[:,np.newaxis] * np.array(lap_pinv - iden) * ss_probs_invsqrt[np.newaxis,:]"
   ]
  },
  {
   "cell_type": "code",
   "execution_count": null,
   "metadata": {},
   "outputs": [],
   "source": [
    "def compute_log_ramp(pmi_inf, T=10, thresh=np.finfo(float).eps):\n",
    "    pmi_inf_trans = T * np.log(np.maximum(thresh, 1. + pmi_inf / T))\n",
    "    return pmi_inf_trans"
   ]
  },
  {
   "cell_type": "code",
   "execution_count": null,
   "metadata": {},
   "outputs": [],
   "source": [
    "def compute_mat_embed(mat, dims=128):\n",
    "    w, v = sp.sparse.linalg.eigsh(mat, k=dims)\n",
    "    return np.sqrt(np.abs(w))[np.newaxis,:] * v"
   ]
  },
  {
   "cell_type": "markdown",
   "metadata": {},
   "source": [
    "Calculating an embedding using these components and saving:"
   ]
  },
  {
   "cell_type": "code",
   "execution_count": null,
   "metadata": {},
   "outputs": [],
   "source": [
    "pmi_inf = compute_pmi_inf(adj)\n",
    "pmi_inf_trans = compute_log_ramp(pmi_inf, T=10)\n",
    "embed = compute_mat_embed(pmi_inf_trans, 128)\n",
    "scipy.io.savemat('blog_infwalk.mat', {'embed':embed})"
   ]
  }
 ],
 "metadata": {
  "kernelspec": {
   "display_name": "Python 3",
   "language": "python",
   "name": "python3"
  },
  "language_info": {
   "codemirror_mode": {
    "name": "ipython",
    "version": 3
   },
   "file_extension": ".py",
   "mimetype": "text/x-python",
   "name": "python",
   "nbconvert_exporter": "python",
   "pygments_lexer": "ipython3",
   "version": "3.6.3"
  }
 },
 "nbformat": 4,
 "nbformat_minor": 2
}
